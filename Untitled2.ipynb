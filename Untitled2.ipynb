{
  "nbformat": 4,
  "nbformat_minor": 0,
  "metadata": {
    "colab": {
      "provenance": [],
      "authorship_tag": "ABX9TyPeMwtl7KDbxZCski5PACNW",
      "include_colab_link": true
    },
    "kernelspec": {
      "name": "python3",
      "display_name": "Python 3"
    },
    "language_info": {
      "name": "python"
    }
  },
  "cells": [
    {
      "cell_type": "markdown",
      "metadata": {
        "id": "view-in-github",
        "colab_type": "text"
      },
      "source": [
        "<a href=\"https://colab.research.google.com/github/Santiag0Vaca/MASSAY/blob/main/Untitled2.ipynb\" target=\"_parent\"><img src=\"https://colab.research.google.com/assets/colab-badge.svg\" alt=\"Open In Colab\"/></a>"
      ]
    },
    {
      "cell_type": "code",
      "execution_count": 30,
      "metadata": {
        "colab": {
          "base_uri": "https://localhost:8080/"
        },
        "id": "zoKAE5BlZwnY",
        "outputId": "2a4f19a6-98ae-4548-ffb8-ac6fe6fbfbc0"
      },
      "outputs": [
        {
          "output_type": "stream",
          "name": "stdout",
          "text": [
            "8  Cumple con la serie de fibonacci\n",
            "10  No cumple con la serie de fibonacci\n",
            "55  Cumple con la serie de fibonacci\n",
            "45  No cumple con la serie de fibonacci\n",
            "38  No cumple con la serie de fibonacci\n"
          ]
        }
      ],
      "source": [
        "def generar_numeros():\n",
        "    \"Genera una lista de números entre 10 y 55, pares, que no sean 16 ni múltiplos de 3.\"\n",
        "    numeros = []\n",
        "    for i in range(10, 55):\n",
        "        if i % 2 == 0 and i != 16 and i % 3 != 0:\n",
        "            numeros.append(i)\n",
        "    return numeros\n",
        "\n",
        "def fibonacci(num):\n",
        "    \"Determina si un número es parte de la serie de fibonacci.\"\n",
        "    a, b = 0, 1\n",
        "    while b <= num:\n",
        "        if b == num:\n",
        "            return True\n",
        "        a, b = b, a + b\n",
        "    return False\n",
        "\n",
        "def imprime_numeros_con_fibonacci(numeros):\n",
        "    \"Imprime los números del vector con la indicación si cumplen con la serie de fibonacci.\"\n",
        "    for num in numeros:\n",
        "        if fibonacci(num):\n",
        "            print(f\"{num}  Cumple con la serie de fibonacci\")\n",
        "        else:\n",
        "            print(f\"{num}  No cumple con la serie de fibonacci\")\n",
        "def main():\n",
        "    numeros = [8,10,55,45,38]\n",
        "    imprime_numeros_con_fibonacci(numeros)\n",
        "\n",
        "if __name__ == \"__main__\":\n",
        "    main()\n"
      ]
    },
    {
      "cell_type": "code",
      "source": [],
      "metadata": {
        "colab": {
          "base_uri": "https://localhost:8080/",
          "height": 106
        },
        "id": "G7e50WiApYe7",
        "outputId": "ce7261b5-7f45-4891-907f-4f8a29cdfad7"
      },
      "execution_count": 29,
      "outputs": [
        {
          "output_type": "error",
          "ename": "SyntaxError",
          "evalue": "unterminated string literal (detected at line 2) (<ipython-input-29-868c9118f2b5>, line 2)",
          "traceback": [
            "\u001b[0;36m  File \u001b[0;32m\"<ipython-input-29-868c9118f2b5>\"\u001b[0;36m, line \u001b[0;32m2\u001b[0m\n\u001b[0;31m    numeros\" es igual a []\u001b[0m\n\u001b[0m           ^\u001b[0m\n\u001b[0;31mSyntaxError\u001b[0m\u001b[0;31m:\u001b[0m unterminated string literal (detected at line 2)\n"
          ]
        }
      ]
    }
  ]
}